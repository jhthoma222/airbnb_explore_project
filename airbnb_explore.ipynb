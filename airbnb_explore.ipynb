{
 "cells": [
  {
   "cell_type": "code",
   "execution_count": 27,
   "id": "c41c47ed-6947-4598-98a1-5bf22b091411",
   "metadata": {},
   "outputs": [],
   "source": [
    "# Libraries needed\n",
    "import numpy as np\n",
    "import pandas as pd"
   ]
  },
  {
   "cell_type": "code",
   "execution_count": 29,
   "id": "dd76269e-19f8-4dbd-a4f3-cc996faa767c",
   "metadata": {},
   "outputs": [
    {
     "name": "stdout",
     "output_type": "stream",
     "text": [
      "   listing_id        price                nbhood_full\n",
      "0        2595  225 dollars         Manhattan, Midtown\n",
      "1        3831   89 dollars     Brooklyn, Clinton Hill\n",
      "2        5099  200 dollars     Manhattan, Murray Hill\n",
      "3        5178   79 dollars  Manhattan, Hell's Kitchen\n",
      "4        5238  150 dollars       Manhattan, Chinatown\n",
      "   listing_id                                description        room_type\n",
      "0        2595                      Skylit Midtown Castle  Entire home/apt\n",
      "1        3831            Cozy Entire Floor of Brownstone  Entire home/apt\n",
      "2        5099  Large Cozy 1 BR Apartment In Midtown East  Entire home/apt\n",
      "3        5178            Large Furnished Room Near B'way     private room\n",
      "4        5238         Cute & Cozy Lower East Side 1 bdrm  Entire home/apt\n",
      "   listing_id    host_name   last_review\n",
      "0        2595     Jennifer   May 21 2019\n",
      "1        3831  LisaRoxanne  July 05 2019\n",
      "2        5099        Chris  June 22 2019\n",
      "3        5178     Shunichi  June 24 2019\n",
      "4        5238          Ben  June 09 2019\n"
     ]
    }
   ],
   "source": [
    "# loading the data from 3 different data sources\n",
    "price_df = pd.read_csv('airbnb_explore_project/airbnb_price.csv')\n",
    "room_df = pd.read_excel('airbnb_explore_project/airbnb_room_type.xlsx')\n",
    "review_df = pd.read_csv('airbnb_explore_project/airbnb_last_review.tsv', sep='\\t')\n",
    "\n",
    "# Show data sample to make sure everything looks good\n",
    "print(price_df.head())\n",
    "print(room_df.head())\n",
    "print(review_df.head())"
   ]
  },
  {
   "cell_type": "code",
   "execution_count": 31,
   "id": "9e31c42f-a8bf-41f6-af42-f9aea2896c97",
   "metadata": {},
   "outputs": [
    {
     "data": {
      "text/html": [
       "<div>\n",
       "<style scoped>\n",
       "    .dataframe tbody tr th:only-of-type {\n",
       "        vertical-align: middle;\n",
       "    }\n",
       "\n",
       "    .dataframe tbody tr th {\n",
       "        vertical-align: top;\n",
       "    }\n",
       "\n",
       "    .dataframe thead th {\n",
       "        text-align: right;\n",
       "    }\n",
       "</style>\n",
       "<table border=\"1\" class=\"dataframe\">\n",
       "  <thead>\n",
       "    <tr style=\"text-align: right;\">\n",
       "      <th></th>\n",
       "      <th>listing_id</th>\n",
       "      <th>price</th>\n",
       "      <th>nbhood_full</th>\n",
       "      <th>description</th>\n",
       "      <th>room_type</th>\n",
       "      <th>host_name</th>\n",
       "      <th>last_review</th>\n",
       "    </tr>\n",
       "  </thead>\n",
       "  <tbody>\n",
       "    <tr>\n",
       "      <th>0</th>\n",
       "      <td>2595</td>\n",
       "      <td>225 dollars</td>\n",
       "      <td>Manhattan, Midtown</td>\n",
       "      <td>Skylit Midtown Castle</td>\n",
       "      <td>Entire home/apt</td>\n",
       "      <td>Jennifer</td>\n",
       "      <td>May 21 2019</td>\n",
       "    </tr>\n",
       "    <tr>\n",
       "      <th>1</th>\n",
       "      <td>3831</td>\n",
       "      <td>89 dollars</td>\n",
       "      <td>Brooklyn, Clinton Hill</td>\n",
       "      <td>Cozy Entire Floor of Brownstone</td>\n",
       "      <td>Entire home/apt</td>\n",
       "      <td>LisaRoxanne</td>\n",
       "      <td>July 05 2019</td>\n",
       "    </tr>\n",
       "    <tr>\n",
       "      <th>2</th>\n",
       "      <td>5099</td>\n",
       "      <td>200 dollars</td>\n",
       "      <td>Manhattan, Murray Hill</td>\n",
       "      <td>Large Cozy 1 BR Apartment In Midtown East</td>\n",
       "      <td>Entire home/apt</td>\n",
       "      <td>Chris</td>\n",
       "      <td>June 22 2019</td>\n",
       "    </tr>\n",
       "    <tr>\n",
       "      <th>3</th>\n",
       "      <td>5178</td>\n",
       "      <td>79 dollars</td>\n",
       "      <td>Manhattan, Hell's Kitchen</td>\n",
       "      <td>Large Furnished Room Near B'way</td>\n",
       "      <td>private room</td>\n",
       "      <td>Shunichi</td>\n",
       "      <td>June 24 2019</td>\n",
       "    </tr>\n",
       "    <tr>\n",
       "      <th>4</th>\n",
       "      <td>5238</td>\n",
       "      <td>150 dollars</td>\n",
       "      <td>Manhattan, Chinatown</td>\n",
       "      <td>Cute &amp; Cozy Lower East Side 1 bdrm</td>\n",
       "      <td>Entire home/apt</td>\n",
       "      <td>Ben</td>\n",
       "      <td>June 09 2019</td>\n",
       "    </tr>\n",
       "  </tbody>\n",
       "</table>\n",
       "</div>"
      ],
      "text/plain": [
       "   listing_id        price                nbhood_full  \\\n",
       "0        2595  225 dollars         Manhattan, Midtown   \n",
       "1        3831   89 dollars     Brooklyn, Clinton Hill   \n",
       "2        5099  200 dollars     Manhattan, Murray Hill   \n",
       "3        5178   79 dollars  Manhattan, Hell's Kitchen   \n",
       "4        5238  150 dollars       Manhattan, Chinatown   \n",
       "\n",
       "                                 description        room_type    host_name  \\\n",
       "0                      Skylit Midtown Castle  Entire home/apt     Jennifer   \n",
       "1            Cozy Entire Floor of Brownstone  Entire home/apt  LisaRoxanne   \n",
       "2  Large Cozy 1 BR Apartment In Midtown East  Entire home/apt        Chris   \n",
       "3            Large Furnished Room Near B'way     private room     Shunichi   \n",
       "4         Cute & Cozy Lower East Side 1 bdrm  Entire home/apt          Ben   \n",
       "\n",
       "    last_review  \n",
       "0   May 21 2019  \n",
       "1  July 05 2019  \n",
       "2  June 22 2019  \n",
       "3  June 24 2019  \n",
       "4  June 09 2019  "
      ]
     },
     "execution_count": 31,
     "metadata": {},
     "output_type": "execute_result"
    }
   ],
   "source": [
    "# Merge the 3 dataframes into one\n",
    "# Can only merge 2 data frames at a time\n",
    "\n",
    "df = pd.merge(price_df, room_df, on='listing_id')\n",
    "df = pd.merge(df, review_df, on='listing_id')\n",
    "\n",
    "df.head()"
   ]
  },
  {
   "cell_type": "code",
   "execution_count": 33,
   "id": "7e5876f2-5128-444f-b059-9e68516e5e4b",
   "metadata": {},
   "outputs": [
    {
     "data": {
      "text/plain": [
       "<bound method DataFrame.info of        listing_id        price                 nbhood_full  \\\n",
       "0            2595  225 dollars          Manhattan, Midtown   \n",
       "1            3831   89 dollars      Brooklyn, Clinton Hill   \n",
       "2            5099  200 dollars      Manhattan, Murray Hill   \n",
       "3            5178   79 dollars   Manhattan, Hell's Kitchen   \n",
       "4            5238  150 dollars        Manhattan, Chinatown   \n",
       "...           ...          ...                         ...   \n",
       "25204    36425863  129 dollars  Manhattan, Upper East Side   \n",
       "25205    36427429   45 dollars            Queens, Flushing   \n",
       "25206    36438336  235 dollars  Staten Island, Great Kills   \n",
       "25207    36442252  100 dollars           Bronx, Mott Haven   \n",
       "25208    36455809   30 dollars          Brooklyn, Bushwick   \n",
       "\n",
       "                                      description        room_type  \\\n",
       "0                           Skylit Midtown Castle  Entire home/apt   \n",
       "1                 Cozy Entire Floor of Brownstone  Entire home/apt   \n",
       "2       Large Cozy 1 BR Apartment In Midtown East  Entire home/apt   \n",
       "3                 Large Furnished Room Near B'way     private room   \n",
       "4              Cute & Cozy Lower East Side 1 bdrm  Entire home/apt   \n",
       "...                                           ...              ...   \n",
       "25204  Lovely Privet Bedroom with Privet Restroom     PRIVATE ROOM   \n",
       "25205                    No.2 with queen size bed     PRIVATE ROOM   \n",
       "25206                             Seas The Moment     Private room   \n",
       "25207               1B-1B apartment near by Metro  Entire home/apt   \n",
       "25208     Cozy Private Room in Bushwick, Brooklyn     Private room   \n",
       "\n",
       "         host_name   last_review  \n",
       "0         Jennifer   May 21 2019  \n",
       "1      LisaRoxanne  July 05 2019  \n",
       "2            Chris  June 22 2019  \n",
       "3         Shunichi  June 24 2019  \n",
       "4              Ben  June 09 2019  \n",
       "...            ...           ...  \n",
       "25204        Rusaa  July 07 2019  \n",
       "25205         H Ai  July 07 2019  \n",
       "25206          Ben  July 07 2019  \n",
       "25207       Blaine  July 07 2019  \n",
       "25208    Christine  July 08 2019  \n",
       "\n",
       "[25209 rows x 7 columns]>"
      ]
     },
     "execution_count": 33,
     "metadata": {},
     "output_type": "execute_result"
    }
   ],
   "source": [
    "df.info"
   ]
  },
  {
   "cell_type": "code",
   "execution_count": 35,
   "id": "d023b115-ffd1-45e5-9883-cf78170497b4",
   "metadata": {},
   "outputs": [
    {
     "data": {
      "text/plain": [
       "listing_id      int64\n",
       "price          object\n",
       "nbhood_full    object\n",
       "description    object\n",
       "room_type      object\n",
       "host_name      object\n",
       "last_review    object\n",
       "dtype: object"
      ]
     },
     "execution_count": 35,
     "metadata": {},
     "output_type": "execute_result"
    }
   ],
   "source": [
    "df.dtypes"
   ]
  },
  {
   "cell_type": "code",
   "execution_count": 37,
   "id": "a0c77784-f216-4374-a236-d4e371cbc8ed",
   "metadata": {},
   "outputs": [
    {
     "name": "stdout",
     "output_type": "stream",
     "text": [
      "First received -  2019-01-01 00:00:00\n",
      "Last received -  2019-07-09 00:00:00\n"
     ]
    }
   ],
   "source": [
    "# Need to determine the earliest and most recent review dates\n",
    "\n",
    "# Need to convert last_review column to date format\n",
    "df['last_review'] = pd.to_datetime(df['last_review'])\n",
    "\n",
    "#df.dtypes\n",
    "\n",
    "# Find the earliest review\n",
    "first_reviewed = df['last_review'].min()\n",
    "\n",
    "# Find the most recent review\n",
    "last_reviewed = df['last_review'].max()\n",
    "\n",
    "print('First received - ', first_reviewed)\n",
    "print('Last received - ', last_reviewed)"
   ]
  },
  {
   "cell_type": "code",
   "execution_count": 39,
   "id": "bb37a298-7004-467d-a1e3-8146f013a811",
   "metadata": {},
   "outputs": [
    {
     "name": "stdout",
     "output_type": "stream",
     "text": [
      "Number of private rooms:  11356\n"
     ]
    }
   ],
   "source": [
    "# Find how many listings are private rooms\n",
    "\n",
    "# Since there are differences in capitalization, make capitalization consistent\n",
    "df['room_type'] = df['room_type'].str.lower()\n",
    "\n",
    "# Filter the room_type column to find all only 'private_rooms' then use shape to count\n",
    "nb_private_rooms = df[df['room_type'] == 'private room'].shape[0]\n",
    "\n",
    "print('Number of private rooms: ', nb_private_rooms)"
   ]
  },
  {
   "cell_type": "code",
   "execution_count": 41,
   "id": "ff5278d8-4364-489f-8929-f0165c03e212",
   "metadata": {},
   "outputs": [
    {
     "name": "stdout",
     "output_type": "stream",
     "text": [
      "Average price:  141.78\n"
     ]
    }
   ],
   "source": [
    "# Find the average price of listings\n",
    "\n",
    "# Need to remove 'dollars' from price column before coverting to float\n",
    "df['price'] = df['price'].str.replace('dollars', '')\n",
    "#df.head()\n",
    "\n",
    "# Need to convert the price column to float values to find their mean.\n",
    "df['price'] = df['price'].astype(float)\n",
    "#df.dtypes\n",
    "\n",
    "# Find the average price of listings\n",
    "avg_price = df['price'].mean().round(2)\n",
    "\n",
    "print('Average price: ', avg_price)\n"
   ]
  },
  {
   "cell_type": "code",
   "execution_count": 43,
   "id": "515f4396-c17d-4d27-9cb6-2a76abb3d330",
   "metadata": {},
   "outputs": [
    {
     "name": "stdout",
     "output_type": "stream",
     "text": [
      "  first_reviewed last_reviewed  nb_private_rooms  avg_price\n",
      "0     2019-01-01    2019-07-09             11356     141.78\n"
     ]
    }
   ],
   "source": [
    "# Create a Dataframe with the four solution values\n",
    "\n",
    "review_dates = pd.DataFrame([[first_reviewed, last_reviewed, nb_private_rooms, avg_price]],     columns=['first_reviewed', 'last_reviewed', 'nb_private_rooms', 'avg_price'])\n",
    "\n",
    "print(review_dates)\n"
   ]
  },
  {
   "cell_type": "code",
   "execution_count": null,
   "id": "0a8d5bfd-bb76-49df-884f-cea0f6a7341d",
   "metadata": {},
   "outputs": [],
   "source": []
  }
 ],
 "metadata": {
  "kernelspec": {
   "display_name": "anaconda-panel-2023.05-py310",
   "language": "python",
   "name": "conda-env-anaconda-panel-2023.05-py310-py"
  },
  "language_info": {
   "codemirror_mode": {
    "name": "ipython",
    "version": 3
   },
   "file_extension": ".py",
   "mimetype": "text/x-python",
   "name": "python",
   "nbconvert_exporter": "python",
   "pygments_lexer": "ipython3",
   "version": "3.11.5"
  }
 },
 "nbformat": 4,
 "nbformat_minor": 5
}
